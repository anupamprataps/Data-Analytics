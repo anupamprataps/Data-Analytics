{
 "cells": [
  {
   "cell_type": "code",
   "execution_count": 9,
   "metadata": {},
   "outputs": [],
   "source": [
    "from keras.datasets import mnist\n",
    "from keras.preprocessing.image import load_img, array_to_img\n",
    "from keras.utils.np_utils import to_categorical\n",
    "from keras.models import Sequential\n",
    "from keras.layers import Dense\n",
    "import numpy as np\n",
    "import matplotlib.pyplot as plt\n",
    "%matplotlib inline"
   ]
  },
  {
   "cell_type": "code",
   "execution_count": 50,
   "metadata": {},
   "outputs": [],
   "source": [
    "(x_train, y_train), (x_test, y_test)=mnist.load_data()"
   ]
  },
  {
   "cell_type": "code",
   "execution_count": 14,
   "metadata": {},
   "outputs": [
    {
     "data": {
      "text/plain": [
       "(10000, 28, 28)"
      ]
     },
     "execution_count": 14,
     "metadata": {},
     "output_type": "execute_result"
    }
   ],
   "source": [
    "x_test.shape"
   ]
  },
  {
   "cell_type": "code",
   "execution_count": 18,
   "metadata": {},
   "outputs": [
    {
     "data": {
      "text/plain": [
       "<matplotlib.image.AxesImage at 0x2032fd9c128>"
      ]
     },
     "execution_count": 18,
     "metadata": {},
     "output_type": "execute_result"
    },
    {
     "data": {
      "image/png": "[encoded data removed]",
      "text/plain": [
       "<Figure size 432x288 with 1 Axes>"
      ]
     },
     "metadata": {
      "needs_background": "light"
     },
     "output_type": "display_data"
    }
   ],
   "source": [
    "plt.imshow(x_train[0],cmap='gray')"
   ]
  },
  {
   "cell_type": "code",
   "execution_count": 51,
   "metadata": {},
   "outputs": [],
   "source": [
    "image_height,image_width=28,28\n",
    "x_train=x_train.reshape(60000,image_height*image_width)"
   ]
  },
  {
   "cell_type": "code",
   "execution_count": 52,
   "metadata": {},
   "outputs": [],
   "source": [
    "x_test=x_test.reshape(10000,image_height*image_width)"
   ]
  },
  {
   "cell_type": "code",
   "execution_count": 60,
   "metadata": {},
   "outputs": [
    {
     "data": {
      "text/plain": [
       "(10000, 784)"
      ]
     },
     "execution_count": 60,
     "metadata": {},
     "output_type": "execute_result"
    }
   ],
   "source": [
    "x_test.shape"
   ]
  },
  {
   "cell_type": "code",
   "execution_count": 53,
   "metadata": {},
   "outputs": [],
   "source": [
    "x_train=x_train.astype('float32')\n",
    "x_test=x_test.astype('float32')"
   ]
  },
  {
   "cell_type": "code",
   "execution_count": 54,
   "metadata": {},
   "outputs": [],
   "source": [
    "x_train /=255.0\n",
    "x_test /= 255.0"
   ]
  },
  {
   "cell_type": "code",
   "execution_count": 57,
   "metadata": {},
   "outputs": [],
   "source": [
    "y_train = to_categorical(y_train,10)\n",
    "y_test = to_categorical(y_test,10)"
   ]
  },
  {
   "cell_type": "code",
   "execution_count": 40,
   "metadata": {},
   "outputs": [
    {
     "data": {
      "text/plain": [
       "(60000, 10)"
      ]
     },
     "execution_count": 40,
     "metadata": {},
     "output_type": "execute_result"
    }
   ],
   "source": [
    "y_train.shape"
   ]
  },
  {
   "cell_type": "code",
   "execution_count": 41,
   "metadata": {},
   "outputs": [],
   "source": [
    "model=Sequential()"
   ]
  },
  {
   "cell_type": "code",
   "execution_count": 43,
   "metadata": {},
   "outputs": [],
   "source": [
    "model.add(Dense(512,activation='relu', input_shape=(784,)))\n",
    "model.add(Dense(512,activation='relu'))\n",
    "model.add(Dense(10,activation='softmax'))"
   ]
  },
  {
   "cell_type": "code",
   "execution_count": 44,
   "metadata": {},
   "outputs": [],
   "source": [
    "model.compile(optimizer='adam',loss='categorical_crossentropy', metrics=['accuracy'])"
   ]
  },
  {
   "cell_type": "code",
   "execution_count": 47,
   "metadata": {},
   "outputs": [
    {
     "name": "stdout",
     "output_type": "stream",
     "text": [
      "Model: \"sequential_1\"\n",
      "_________________________________________________________________\n",
      "Layer (type)                 Output Shape              Param #   \n",
      "=================================================================\n",
      "dense_1 (Dense)              (None, 512)               401920    \n",
      "_________________________________________________________________\n",
      "dense_2 (Dense)              (None, 512)               262656    \n",
      "_________________________________________________________________\n",
      "dense_3 (Dense)              (None, 10)                5130      \n",
      "=================================================================\n",
      "Total params: 669,706\n",
      "Trainable params: 669,706\n",
      "Non-trainable params: 0\n",
      "_________________________________________________________________\n"
     ]
    }
   ],
   "source": [
    "model.summary()"
   ]
  },
  {
   "cell_type": "code",
   "execution_count": 58,
   "metadata": {},
   "outputs": [
    {
     "name": "stdout",
     "output_type": "stream",
     "text": [
      "Train on 60000 samples, validate on 10000 samples\n",
      "Epoch 1/20\n",
      "60000/60000 [==============================] - 28s 470us/step - loss: 0.1842 - accuracy: 0.9435 - val_loss: 0.0944 - val_accuracy: 0.9702\n",
      "Epoch 2/20\n",
      "60000/60000 [==============================] - 27s 447us/step - loss: 0.0825 - accuracy: 0.9744 - val_loss: 0.0849 - val_accuracy: 0.9730\n",
      "Epoch 3/20\n",
      "60000/60000 [==============================] - 26s 436us/step - loss: 0.0559 - accuracy: 0.9827 - val_loss: 0.0726 - val_accuracy: 0.9789\n",
      "Epoch 4/20\n",
      "60000/60000 [==============================] - 27s 451us/step - loss: 0.0412 - accuracy: 0.9871 - val_loss: 0.0789 - val_accuracy: 0.9790\n",
      "Epoch 5/20\n",
      "60000/60000 [==============================] - 27s 453us/step - loss: 0.0348 - accuracy: 0.9889 - val_loss: 0.0837 - val_accuracy: 0.9793\n",
      "Epoch 6/20\n",
      "60000/60000 [==============================] - 26s 439us/step - loss: 0.0301 - accuracy: 0.9903 - val_loss: 0.0761 - val_accuracy: 0.9807\n",
      "Epoch 7/20\n",
      "60000/60000 [==============================] - 28s 461us/step - loss: 0.0262 - accuracy: 0.9915 - val_loss: 0.1070 - val_accuracy: 0.9770\n",
      "Epoch 8/20\n",
      "60000/60000 [==============================] - 27s 449us/step - loss: 0.0217 - accuracy: 0.9933 - val_loss: 0.0871 - val_accuracy: 0.9789\n",
      "Epoch 9/20\n",
      "60000/60000 [==============================] - 27s 451us/step - loss: 0.0196 - accuracy: 0.9937 - val_loss: 0.0955 - val_accuracy: 0.9805\n",
      "Epoch 10/20\n",
      "60000/60000 [==============================] - 27s 450us/step - loss: 0.0179 - accuracy: 0.9945 - val_loss: 0.1088 - val_accuracy: 0.9801\n",
      "Epoch 11/20\n",
      "60000/60000 [==============================] - 27s 449us/step - loss: 0.0177 - accuracy: 0.9945 - val_loss: 0.1146 - val_accuracy: 0.9794\n",
      "Epoch 12/20\n",
      "60000/60000 [==============================] - 27s 448us/step - loss: 0.0190 - accuracy: 0.9946 - val_loss: 0.0900 - val_accuracy: 0.9825\n",
      "Epoch 13/20\n",
      "60000/60000 [==============================] - 27s 444us/step - loss: 0.0125 - accuracy: 0.9963 - val_loss: 0.1135 - val_accuracy: 0.9790\n",
      "Epoch 14/20\n",
      "60000/60000 [==============================] - 27s 452us/step - loss: 0.0180 - accuracy: 0.9953 - val_loss: 0.1392 - val_accuracy: 0.9761\n",
      "Epoch 15/20\n",
      "60000/60000 [==============================] - 27s 453us/step - loss: 0.0139 - accuracy: 0.9963 - val_loss: 0.1447 - val_accuracy: 0.9773\n",
      "Epoch 16/20\n",
      "60000/60000 [==============================] - 27s 450us/step - loss: 0.0177 - accuracy: 0.9957 - val_loss: 0.1141 - val_accuracy: 0.9811\n",
      "Epoch 17/20\n",
      "60000/60000 [==============================] - 27s 445us/step - loss: 0.0121 - accuracy: 0.9968 - val_loss: 0.1145 - val_accuracy: 0.9819\n",
      "Epoch 18/20\n",
      "60000/60000 [==============================] - 27s 447us/step - loss: 0.0151 - accuracy: 0.9963 - val_loss: 0.1116 - val_accuracy: 0.9831\n",
      "Epoch 19/20\n",
      "60000/60000 [==============================] - 27s 448us/step - loss: 0.0114 - accuracy: 0.9969 - val_loss: 0.1638 - val_accuracy: 0.9781\n",
      "Epoch 20/20\n",
      "60000/60000 [==============================] - 27s 447us/step - loss: 0.0128 - accuracy: 0.9969 - val_loss: 0.1377 - val_accuracy: 0.9822\n"
     ]
    }
   ],
   "source": [
    "history=model.fit(x_train,y_train,epochs=20,validation_data=(x_test,y_test))"
   ]
  },
  {
   "cell_type": "code",
   "execution_count": 68,
   "metadata": {},
   "outputs": [
    {
     "data": {
      "text/plain": [
       "array([7, 2, 1, ..., 4, 5, 6], dtype=int64)"
      ]
     },
     "execution_count": 68,
     "metadata": {},
     "output_type": "execute_result"
    }
   ],
   "source": [
    "model.predict_classes(x_test)"
   ]
  },
  {
   "cell_type": "code",
   "execution_count": 70,
   "metadata": {},
   "outputs": [
    {
     "data": {
      "text/plain": [
       "array([7, 2, 1, ..., 4, 5, 6], dtype=uint8)"
      ]
     },
     "execution_count": 70,
     "metadata": {},
     "output_type": "execute_result"
    }
   ],
   "source": [
    "y1_test"
   ]
  },
  {
   "cell_type": "code",
   "execution_count": 71,
   "metadata": {},
   "outputs": [
    {
     "name": "stdout",
     "output_type": "stream",
     "text": [
      "10000/10000 [==============================] - 1s 58us/step\n"
     ]
    },
    {
     "data": {
      "text/plain": [
       "[0.13767215903434585, 0.982200026512146]"
      ]
     },
     "execution_count": 71,
     "metadata": {},
     "output_type": "execute_result"
    }
   ],
   "source": [
    "model.evaluate(x_test,y_test)"
   ]
  },
  {
   "cell_type": "code",
   "execution_count": 84,
   "metadata": {},
   "outputs": [
    {
     "data": {
      "text/plain": [
       "[<matplotlib.lines.Line2D at 0x2033d1b0828>]"
      ]
     },
     "execution_count": 84,
     "metadata": {},
     "output_type": "execute_result"
    },
    {
     "data": {
      "image/png": "[encoded data removed]",
      "text/plain": [
       "<Figure size 432x288 with 1 Axes>"
      ]
     },
     "metadata": {
      "needs_background": "light"
     },
     "output_type": "display_data"
    }
   ],
   "source": [
    "plt.plot(history.history['val_accuracy'])\n",
    "plt.plot(history.history['accuracy'])\n",
    "plt.plot(history.history['loss'])"
   ]
  },
  {
   "cell_type": "code",
   "execution_count": null,
   "metadata": {},
   "outputs": [],
   "source": []
  }
 ],
 "metadata": {
  "kernelspec": {
   "display_name": "Python 3",
   "language": "python",
   "name": "python3"
  },
  "language_info": {
   "codemirror_mode": {
    "name": "ipython",
    "version": 3
   },
   "file_extension": ".py",
   "mimetype": "text/x-python",
   "name": "python",
   "nbconvert_exporter": "python",
   "pygments_lexer": "ipython3",
   "version": "3.6.7"
  }
 },
 "nbformat": 4,
 "nbformat_minor": 2
}
