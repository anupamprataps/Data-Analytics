{
 "cells": [
  {
   "cell_type": "code",
   "execution_count": 1,
   "metadata": {},
   "outputs": [
    {
     "name": "stdout",
     "output_type": "stream",
     "text": [
      "Mean is: 0.04653\n",
      "Range from:  0.04579 Range upto:  0.04731\n"
     ]
    }
   ],
   "source": [
    "import numpy as np\n",
    "import pandas as pd\n",
    "import math\n",
    "var_a=pd.read_csv('C:/Users/anupa/Documents/idle percent.csv')\n",
    "var_a=np.array(var_a['Idle Percent'])\n",
    "m=np.mean(var_a)\n",
    "s=np.std(var_a)\n",
    "l=len(var_a)\n",
    "error=s/(math.sqrt(l))\n",
    "conf_upper=m+(1.96*(error))  #1.96 is 95 percent confidence\n",
    "conf_lower=m-(1.86*(error))\n",
    "print('Mean is:',round(m,5))\n",
    "print('Range from: ', round(conf_lower,5), 'Range upto: ', round(conf_upper,5))"
   ]
  },
  {
   "cell_type": "code",
   "execution_count": null,
   "metadata": {},
   "outputs": [],
   "source": []
  }
 ],
 "metadata": {
  "kernelspec": {
   "display_name": "Python 3",
   "language": "python",
   "name": "python3"
  },
  "language_info": {
   "codemirror_mode": {
    "name": "ipython",
    "version": 3
   },
   "file_extension": ".py",
   "mimetype": "text/x-python",
   "name": "python",
   "nbconvert_exporter": "python",
   "pygments_lexer": "ipython3",
   "version": "3.6.7"
  }
 },
 "nbformat": 4,
 "nbformat_minor": 2
}
